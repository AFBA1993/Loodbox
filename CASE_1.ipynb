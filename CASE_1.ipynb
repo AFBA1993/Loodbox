{
 "cells": [
  {
   "cell_type": "markdown",
   "id": "888bf2f6",
   "metadata": {},
   "source": [
    "Candidate: Andrés Felipe Bolaños Acosta <br>\n",
    "\n",
    "Position: Business Intelligence Developer<br>\n",
    "\n",
    "E-mail: afb.acosta@gmail.com<br>\n",
    "\n",
    "Mobile phone: +5511973662765<br>"
   ]
  },
  {
   "cell_type": "markdown",
   "id": "ad1bd1be",
   "metadata": {},
   "source": [
    "# Case \n",
    "\n",
    "The Dev Team was tired of developing the same old queries just varying the filters accordingly to their boss demands:\n",
    "\n",
    "As a new member of the crew, your mission now is to create a dynamic function, on the most flexible of ways, to produce queries and retrieve a dataframe based on three parameters:\n",
    "\n",
    "- product_code: integer\n",
    "- store_code: integer\n",
    "- date: list of ISO-like strings\n",
    "\n",
    "<b> ANSWER: </b>"
   ]
  },
  {
   "cell_type": "code",
   "execution_count": 1,
   "id": "fde0b1d2",
   "metadata": {},
   "outputs": [],
   "source": [
    "import mysql.connector\n",
    "import pandas as pd\n",
    "import seaborn as sns\n",
    "from matplotlib import pyplot as plt\n",
    "import warnings\n",
    "warnings.filterwarnings('ignore')"
   ]
  },
  {
   "cell_type": "markdown",
   "id": "1f9ad888",
   "metadata": {},
   "source": [
    "The first solution is implemented by employing the tool \"mySQL conector\" and \"pd.read_sql\". Both allow us to establish a direct connection to the database and make queries: "
   ]
  },
  {
   "cell_type": "code",
   "execution_count": 2,
   "id": "fe521030",
   "metadata": {},
   "outputs": [],
   "source": [
    "def retrieve_data(product_code, store_code, date):\n",
    "    connection = (mysql.connector.connect(\n",
    "                                     user = 'looqbox-challenge', \n",
    "                                     password = 'looq-challenge',\n",
    "                                     host = '35.199.127.241',\n",
    "                                     database = 'looqbox_challenge'))\n",
    "    \n",
    "    query = (\"SELECT STORE_CODE, PRODUCT_CODE, \"\n",
    "                    \"DATE, SALES_VALUE, SALES_QTY \"       \n",
    "             \"FROM data_product_sales \"\n",
    "             \"WHERE (STORE_CODE = '%s') \" \n",
    "             \"AND (PRODUCT_CODE = '%s') \"\n",
    "             \"AND (DATE BETWEEN '%s' AND '%s') \"\n",
    "             % (store_code, product_code, date[0], date[1]))\n",
    "    \n",
    "    df_query = pd.read_sql(query, con = connection)\n",
    "    return df_query\n",
    "    "
   ]
  },
  {
   "cell_type": "markdown",
   "id": "5d2f6510",
   "metadata": {},
   "source": [
    "Testing the first approach:"
   ]
  },
  {
   "cell_type": "code",
   "execution_count": 3,
   "id": "7e3d7ba2",
   "metadata": {},
   "outputs": [],
   "source": [
    "product_code = 18\n",
    "store_code = 18\n",
    "date = [\"2019-01-01\", \"2019-01-12\"]"
   ]
  },
  {
   "cell_type": "code",
   "execution_count": 4,
   "id": "295c92e1",
   "metadata": {
    "scrolled": true
   },
   "outputs": [
    {
     "data": {
      "text/html": [
       "<div>\n",
       "<style scoped>\n",
       "    .dataframe tbody tr th:only-of-type {\n",
       "        vertical-align: middle;\n",
       "    }\n",
       "\n",
       "    .dataframe tbody tr th {\n",
       "        vertical-align: top;\n",
       "    }\n",
       "\n",
       "    .dataframe thead th {\n",
       "        text-align: right;\n",
       "    }\n",
       "</style>\n",
       "<table border=\"1\" class=\"dataframe\">\n",
       "  <thead>\n",
       "    <tr style=\"text-align: right;\">\n",
       "      <th></th>\n",
       "      <th>STORE_CODE</th>\n",
       "      <th>PRODUCT_CODE</th>\n",
       "      <th>DATE</th>\n",
       "      <th>SALES_VALUE</th>\n",
       "      <th>SALES_QTY</th>\n",
       "    </tr>\n",
       "  </thead>\n",
       "  <tbody>\n",
       "    <tr>\n",
       "      <th>9</th>\n",
       "      <td>18</td>\n",
       "      <td>18</td>\n",
       "      <td>2019-01-10</td>\n",
       "      <td>1068.2</td>\n",
       "      <td>98.0</td>\n",
       "    </tr>\n",
       "    <tr>\n",
       "      <th>10</th>\n",
       "      <td>18</td>\n",
       "      <td>18</td>\n",
       "      <td>2019-01-11</td>\n",
       "      <td>1057.3</td>\n",
       "      <td>97.0</td>\n",
       "    </tr>\n",
       "    <tr>\n",
       "      <th>11</th>\n",
       "      <td>18</td>\n",
       "      <td>18</td>\n",
       "      <td>2019-01-12</td>\n",
       "      <td>806.6</td>\n",
       "      <td>74.0</td>\n",
       "    </tr>\n",
       "  </tbody>\n",
       "</table>\n",
       "</div>"
      ],
      "text/plain": [
       "   STORE_CODE  PRODUCT_CODE        DATE  SALES_VALUE  SALES_QTY\n",
       "9          18            18  2019-01-10       1068.2       98.0\n",
       "10         18            18  2019-01-11       1057.3       97.0\n",
       "11         18            18  2019-01-12        806.6       74.0"
      ]
     },
     "execution_count": 4,
     "metadata": {},
     "output_type": "execute_result"
    }
   ],
   "source": [
    "retrieve_data(product_code, store_code, date).tail(3)"
   ]
  },
  {
   "cell_type": "markdown",
   "id": "21303258",
   "metadata": {},
   "source": [
    "However, a second approach has been implemented by just employing permitted actions from the tool \"myqsl.connector\", which becomes a sort of a raw version of the first function:"
   ]
  },
  {
   "cell_type": "code",
   "execution_count": 5,
   "id": "4ec658aa",
   "metadata": {},
   "outputs": [],
   "source": [
    "def retrieve_data(product_code, store_code, date):\n",
    "    connection = (mysql.connector.connect(\n",
    "                                   user = 'looqbox-challenge', \n",
    "                                   password = 'looq-challenge',\n",
    "                                   host = '35.199.127.241',\n",
    "                                   database = 'looqbox_challenge'))\n",
    "    \n",
    "    query = (\"SELECT STORE_CODE, PRODUCT_CODE, \"\n",
    "                    \"DATE, SALES_VALUE, SALES_QTY \"       \n",
    "                    \"FROM data_product_sales \"\n",
    "                    \"WHERE (STORE_CODE = '%s') \" \n",
    "                    \"AND (PRODUCT_CODE = '%s') \"\n",
    "                    \"AND (DATE BETWEEN '%s' AND '%s') \"\n",
    "                    % (store_code, product_code, \n",
    "                       date[0], date[1]))\n",
    "    \n",
    "    cursor = connection.cursor()\n",
    "    cursor.execute(query)\n",
    "    items_query = cursor.fetchall()\n",
    "    df_items_query = pd.DataFrame(items_query)\n",
    "    \n",
    "    if len(df_items_query) == 0:\n",
    "        print(\"There are not a sales!\" \n",
    "              \" please check your query\")\n",
    "        return None\n",
    "    \n",
    "    else:\n",
    "        query_columns = \"SHOW COLUMNS FROM data_product_sales\"\n",
    "        cursor.execute(query_columns)\n",
    "        query_columns = cursor.fetchall()\n",
    "        cursor.close()\n",
    "        \n",
    "        lst_columns = []\n",
    "        for i in range(len(query_columns)):\n",
    "            lst_columns.append(query_columns[i][0])\n",
    "            \n",
    "        df_items_query.columns = lst_columns\n",
    "        return df_items_query"
   ]
  },
  {
   "cell_type": "markdown",
   "id": "1adf2e3d",
   "metadata": {},
   "source": [
    "Testing the implemented function:"
   ]
  },
  {
   "cell_type": "code",
   "execution_count": 6,
   "id": "fa98a5dc",
   "metadata": {},
   "outputs": [],
   "source": [
    "product_code = 20\n",
    "store_code = 20\n",
    "date = [\"2019-01-01\", \"2019-01-12\"]"
   ]
  },
  {
   "cell_type": "code",
   "execution_count": 7,
   "id": "b2b232a6",
   "metadata": {},
   "outputs": [
    {
     "name": "stdout",
     "output_type": "stream",
     "text": [
      "There are not a sales! please check your query\n"
     ]
    }
   ],
   "source": [
    "retrieve_data(product_code, store_code, date)"
   ]
  },
  {
   "cell_type": "code",
   "execution_count": 8,
   "id": "30e1b2a8",
   "metadata": {},
   "outputs": [],
   "source": [
    "product_code = 18\n",
    "store_code = 18\n",
    "date = [\"2019-01-01\", \"2019-01-12\"]"
   ]
  },
  {
   "cell_type": "code",
   "execution_count": 9,
   "id": "6178195d",
   "metadata": {},
   "outputs": [
    {
     "data": {
      "text/html": [
       "<div>\n",
       "<style scoped>\n",
       "    .dataframe tbody tr th:only-of-type {\n",
       "        vertical-align: middle;\n",
       "    }\n",
       "\n",
       "    .dataframe tbody tr th {\n",
       "        vertical-align: top;\n",
       "    }\n",
       "\n",
       "    .dataframe thead th {\n",
       "        text-align: right;\n",
       "    }\n",
       "</style>\n",
       "<table border=\"1\" class=\"dataframe\">\n",
       "  <thead>\n",
       "    <tr style=\"text-align: right;\">\n",
       "      <th></th>\n",
       "      <th>STORE_CODE</th>\n",
       "      <th>PRODUCT_CODE</th>\n",
       "      <th>DATE</th>\n",
       "      <th>SALES_VALUE</th>\n",
       "      <th>SALES_QTY</th>\n",
       "    </tr>\n",
       "  </thead>\n",
       "  <tbody>\n",
       "    <tr>\n",
       "      <th>9</th>\n",
       "      <td>18</td>\n",
       "      <td>18</td>\n",
       "      <td>2019-01-10</td>\n",
       "      <td>1068.20</td>\n",
       "      <td>98</td>\n",
       "    </tr>\n",
       "    <tr>\n",
       "      <th>10</th>\n",
       "      <td>18</td>\n",
       "      <td>18</td>\n",
       "      <td>2019-01-11</td>\n",
       "      <td>1057.30</td>\n",
       "      <td>97</td>\n",
       "    </tr>\n",
       "    <tr>\n",
       "      <th>11</th>\n",
       "      <td>18</td>\n",
       "      <td>18</td>\n",
       "      <td>2019-01-12</td>\n",
       "      <td>806.60</td>\n",
       "      <td>74</td>\n",
       "    </tr>\n",
       "  </tbody>\n",
       "</table>\n",
       "</div>"
      ],
      "text/plain": [
       "   STORE_CODE  PRODUCT_CODE        DATE SALES_VALUE SALES_QTY\n",
       "9          18            18  2019-01-10     1068.20        98\n",
       "10         18            18  2019-01-11     1057.30        97\n",
       "11         18            18  2019-01-12      806.60        74"
      ]
     },
     "execution_count": 9,
     "metadata": {},
     "output_type": "execute_result"
    }
   ],
   "source": [
    "retrieve_data(product_code, store_code, date).tail(3)"
   ]
  }
 ],
 "metadata": {
  "kernelspec": {
   "display_name": "Python 3 (ipykernel)",
   "language": "python",
   "name": "python3"
  },
  "language_info": {
   "codemirror_mode": {
    "name": "ipython",
    "version": 3
   },
   "file_extension": ".py",
   "mimetype": "text/x-python",
   "name": "python",
   "nbconvert_exporter": "python",
   "pygments_lexer": "ipython3",
   "version": "3.9.7"
  }
 },
 "nbformat": 4,
 "nbformat_minor": 5
}
