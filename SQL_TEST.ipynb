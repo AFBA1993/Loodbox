{
 "cells": [
  {
   "cell_type": "markdown",
   "id": "a3a7f573",
   "metadata": {},
   "source": [
    "Candidate: Andrés Felipe Bolaños Acosta <br>\n",
    "\n",
    "Position: Business Intelligence Developer<br>\n",
    "\n",
    "E-mail: afb.acosta@gmail.com<br>\n",
    "\n",
    "Mobile phone: +5511973662765<br>"
   ]
  },
  {
   "cell_type": "markdown",
   "id": "72ff3687",
   "metadata": {},
   "source": [
    "In order to execute SQL commands to query information from the database’s table two functions were implemented “connect” and “search query”. The first one allows us to connect directly to the mySQL data base and the second one allow us to make queries:"
   ]
  },
  {
   "cell_type": "code",
   "execution_count": 7,
   "id": "fade331c",
   "metadata": {},
   "outputs": [],
   "source": [
    "import mysql.connector\n",
    "\n",
    "def connect():\n",
    "    connection = (mysql.connector.connect(\n",
    "                                  user = 'looqbox-challenge', \n",
    "                                  password = 'looq-challenge',\n",
    "                                  host = '35.199.127.241',\n",
    "                                  database = 'looqbox_challenge'))\n",
    "    return connection\n",
    "\n",
    "def search_query(query, conection_database):\n",
    "    cursor = conection_database.cursor()\n",
    "    cursor.execute(query)\n",
    "    items_query = cursor.fetchall()\n",
    "    \n",
    "    for item in items_query:\n",
    "        print(item)\n",
    "        \n",
    "    cursor.close()"
   ]
  },
  {
   "cell_type": "code",
   "execution_count": 8,
   "id": "4cc3dbd7",
   "metadata": {},
   "outputs": [],
   "source": [
    "conection_database = connect()"
   ]
  },
  {
   "cell_type": "markdown",
   "id": "a81a241d",
   "metadata": {},
   "source": [
    "# What are the 10 most expensive products in the company?"
   ]
  },
  {
   "cell_type": "code",
   "execution_count": 9,
   "id": "146aa700",
   "metadata": {},
   "outputs": [
    {
     "name": "stdout",
     "output_type": "stream",
     "text": [
      "('Whisky Escoces THE MACALLAN Ruby Garrafa 700ml com Caixa',)\n",
      "('Whisky Escoces JOHNNIE WALKER Blue Label Garrafa 750ml',)\n",
      "('Cafeteira Expresso 3 CORACOES Tres Modo Vermelho',)\n",
      "('Vinho Portugues Tinto Vintage QUINTA DO CRASTO Garrafa 750ml',)\n",
      "('Escova Dental Eletrica ORAL B D34 Professional Care 5000 110v',)\n",
      "('Champagne Rose VEUVE CLICQUOT PONSARDIM Garrafa 750ml',)\n",
      "('Champagne Frances Brut Imperial MOET Rose Garrafa 750ml',)\n",
      "('Conjunto de Panelas Allegra em Inox TRAMONTINA 5 Pecas Gratis Utensilios 5 Pecas',)\n",
      "('Whisky Escoces CHIVAS REGAL 18 Anos Garrafa 750ml',)\n",
      "('Champagne Frances Brut Imperial MOET & CHANDON Garrafa 750ml',)\n"
     ]
    }
   ],
   "source": [
    "query = (\"SELECT PRODUCT_NAME FROM data_product \"\n",
    "         \"ORDER BY PRODUCT_VAL DESC LIMIT 10 \")\n",
    "search_query(query, conection_database)"
   ]
  },
  {
   "cell_type": "markdown",
   "id": "ad952393",
   "metadata": {},
   "source": [
    "# What sections do the 'BEBIDAS' and 'PADARIA' departments have?:\n"
   ]
  },
  {
   "cell_type": "code",
   "execution_count": 10,
   "id": "126840fe",
   "metadata": {},
   "outputs": [
    {
     "name": "stdout",
     "output_type": "stream",
     "text": [
      "('BEBIDAS', 'BEBIDAS')\n",
      "('BEBIDAS', 'CERVEJAS')\n",
      "('BEBIDAS', 'REFRESCOS')\n",
      "('BEBIDAS', 'VINHOS')\n",
      "('PADARIA', 'DOCES-E-SOBREMESAS')\n",
      "('PADARIA', 'GESTANTE')\n",
      "('PADARIA', 'PADARIA')\n",
      "('PADARIA', 'QUEIJOS-E-FRIOS')\n"
     ]
    }
   ],
   "source": [
    "query = (\"SELECT DISTINCT DEP_NAME, SECTION_NAME \"\n",
    "         \"FROM data_product WHERE DEP_NAME = 'BEBIDAS' \"\n",
    "         \"OR DEP_NAME = 'PADARIA'ORDER BY DEP_NAME \")\n",
    "search_query(query, conection_database)"
   ]
  },
  {
   "cell_type": "markdown",
   "id": "456295b2",
   "metadata": {},
   "source": [
    "The department 'BEBIDAS' has sections 'BEBIDAS', 'CERVEJAS', 'REFRESCOS' and 'VINHOS'. While, \"DOCES-E-SOBREMESAS\", \"GESTANTE\", \"PADARIA\" and \"QUEIJOS-E-FRIOS\" correspond to sections of 'PADARIA'"
   ]
  },
  {
   "cell_type": "markdown",
   "id": "592d31ea",
   "metadata": {},
   "source": [
    "# What was the total sale of products (in dollars) of each Business Area in the first quarter of 2019?\n"
   ]
  },
  {
   "cell_type": "code",
   "execution_count": 11,
   "id": "adf62124",
   "metadata": {},
   "outputs": [
    {
     "name": "stdout",
     "output_type": "stream",
     "text": [
      "('Atacado', Decimal('80384884.60'))\n",
      "('Farma', Decimal('81776691.73'))\n",
      "('Posto', Decimal('32072326.40'))\n",
      "('Proximidade', Decimal('80171122.80'))\n",
      "('Varejo', Decimal('81032347.65'))\n"
     ]
    }
   ],
   "source": [
    "query = (\"SELECT A.BUSINESS_NAME, SUM(B.SALES_VALUE) \"\n",
    "         \"FROM data_store_cad AS A \"\n",
    "         \"INNER JOIN data_product_sales AS B \"\n",
    "         \"ON A.STORE_CODE = B.STORE_CODE \"\n",
    "         \"WHERE B.DATE >= '2019-01-01' AND B.DATE <= '2019-03-31' \"\n",
    "         \"GROUP BY A.BUSINESS_NAME\")\n",
    "search_query(query, conection_database)"
   ]
  },
  {
   "cell_type": "markdown",
   "id": "adb8e13d",
   "metadata": {},
   "source": [
    "Making the previous result clear:\n",
    "   \n",
    "   ATACADO:  80,384,884.60\n",
    "   \n",
    "   FARMA: 81,776,691.73\n",
    "   \n",
    "   POSTO: 32,072,326.40\n",
    "   \n",
    "   PROXIMIDADE: 80,171,122.80\n",
    "   \n",
    "   VAREJO: 81,032,347.65\n",
    "   "
   ]
  },
  {
   "cell_type": "markdown",
   "id": "9ecb4263",
   "metadata": {},
   "source": [
    "The same values are also achieved if we apply another \"INNER JOIN\" to the tables \"data_store_cad\" and \"data_store_sales\":"
   ]
  },
  {
   "cell_type": "code",
   "execution_count": 12,
   "id": "f3d25d30",
   "metadata": {},
   "outputs": [
    {
     "name": "stdout",
     "output_type": "stream",
     "text": [
      "('Atacado', 80384884.6)\n",
      "('Farma', 81776691.73)\n",
      "('Posto', 32072326.4)\n",
      "('Proximidade', 80171122.8)\n",
      "('Varejo', 81032347.65)\n"
     ]
    }
   ],
   "source": [
    "query = (\"SELECT A.BUSINESS_NAME, SUM(B.SALES_VALUE) \"\n",
    "         \"FROM data_store_cad AS A \"\n",
    "         \"INNER JOIN data_store_sales AS B \"\n",
    "         \"ON A.STORE_CODE = B.STORE_CODE \"\n",
    "         \"WHERE B.DATE >= '2019-01-01' AND B.DATE <= '2019-03-31' \"\n",
    "         \"GROUP BY A.BUSINESS_NAME \")\n",
    "search_query(query, conection_database)"
   ]
  },
  {
   "cell_type": "markdown",
   "id": "c1e4e990",
   "metadata": {},
   "source": [
    "It should be mentioned that “Atacado”, “Farma”, “Posto”, “Proximidade” and “Varejo” are all the business areas in the table “data_store_cad”. However, a particular case occurs when any of those business areas did not have sales in the first quarter of 2019, just for that case a “LEFT JOIN”  (“data_store_cad” being the left table) is appropriate to show that any of those areas did not generated income (but this is not the case).\n",
    "  "
   ]
  }
 ],
 "metadata": {
  "kernelspec": {
   "display_name": "Python 3 (ipykernel)",
   "language": "python",
   "name": "python3"
  },
  "language_info": {
   "codemirror_mode": {
    "name": "ipython",
    "version": 3
   },
   "file_extension": ".py",
   "mimetype": "text/x-python",
   "name": "python",
   "nbconvert_exporter": "python",
   "pygments_lexer": "ipython3",
   "version": "3.9.7"
  }
 },
 "nbformat": 4,
 "nbformat_minor": 5
}
